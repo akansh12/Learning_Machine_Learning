{
 "cells": [
  {
   "cell_type": "code",
   "execution_count": 72,
   "metadata": {},
   "outputs": [],
   "source": [
    "import numpy as np"
   ]
  },
  {
   "cell_type": "code",
   "execution_count": 73,
   "metadata": {},
   "outputs": [],
   "source": [
    "def compute_error_for_line_given_points(b,m,points):\n",
    "    total_error=0\n",
    "    for i in range(0, len(points)):\n",
    "        x= points[i,0]\n",
    "        y = points[i,1]\n",
    "        total_error += (y-(m*x+b))**2\n",
    "    return total_error/float(len(points))\n"
   ]
  },
  {
   "cell_type": "code",
   "execution_count": 74,
   "metadata": {},
   "outputs": [],
   "source": [
    "def step_gradient(b_current,m_current, points, learning_rate):\n",
    "    b_gradient = 0\n",
    "    m_gradient = 0\n",
    "    N = float(len(points))\n",
    "    for i in range(0, len(points)):\n",
    "        x= points[i,0]\n",
    "        y= points[i,1]\n",
    "        b_gradient += -(2/N)*(y-((m_current*x)+b_current))\n",
    "        m_gradient += -(2/N)*x*(y-((m_current*x)+b_current))\n",
    "    new_b = b_current- (learning_rate* b_gradient)\n",
    "    new_m = m_current-(learning_rate*m_gradient)\n",
    "    return [new_b,new_m]\n",
    "\n"
   ]
  },
  {
   "cell_type": "code",
   "execution_count": 75,
   "metadata": {},
   "outputs": [],
   "source": [
    "def gradient_descent_runner(points, starting_b, starting_m,learning_rate,num_iterations):\n",
    "    b= starting_b\n",
    "    m=starting_m\n",
    "    for i in range(num_iterations):\n",
    "        b,m = step_gradient(b, m, np.array(points),learning_rate)\n",
    "    return [b,m]\n",
    "\n",
    "    "
   ]
  },
  {
   "cell_type": "code",
   "execution_count": 83,
   "metadata": {},
   "outputs": [],
   "source": [
    "def run():\n",
    "    points = pd.read_csv('data_linear_regression.csv') \n",
    "    points = points.values\n",
    "    #points = np.genfromtxt('data_linear_regression.csv',delimiter=',');\n",
    "    learning_rate= 0.0001\n",
    "    #line y=mx+b\n",
    "    initial_b = 0;\n",
    "    initial_m = 0;\n",
    "    num_iterations = 1000\n",
    "    [b,m] = gradient_descent_runner(points, initial_b, initial_m,learning_rate,num_iterations)\n",
    "    print( \"After {0} iterations b = {1}, m = {2}, error = {3}\".format(num_iterations, b, m, compute_error_for_line_given_points(b, m, points)))\n",
    "\n",
    "    \n",
    "    "
   ]
  },
  {
   "cell_type": "code",
   "execution_count": 84,
   "metadata": {
    "scrolled": true
   },
   "outputs": [
    {
     "name": "stdout",
     "output_type": "stream",
     "text": [
      "After 1000 iterations b = 0.10148121494753724, m = 1.4796491688889395, error = 111.01093662287167\n"
     ]
    }
   ],
   "source": [
    "if __name__ == '__main__':\n",
    "    run()"
   ]
  },
  {
   "cell_type": "code",
   "execution_count": 85,
   "metadata": {},
   "outputs": [],
   "source": [
    "import matplotlib.pyplot as plt"
   ]
  },
  {
   "cell_type": "code",
   "execution_count": 86,
   "metadata": {},
   "outputs": [],
   "source": [
    "points = np.genfromtxt('data_linear_regression.csv',delimiter=',');\n"
   ]
  },
  {
   "cell_type": "code",
   "execution_count": 87,
   "metadata": {},
   "outputs": [],
   "source": [
    "X=points[:,0]\n",
    "Y=points[:,1]"
   ]
  },
  {
   "cell_type": "code",
   "execution_count": 88,
   "metadata": {},
   "outputs": [
    {
     "data": {
      "text/plain": [
       "[<matplotlib.lines.Line2D at 0x7f79aebb2dd8>]"
      ]
     },
     "execution_count": 88,
     "metadata": {},
     "output_type": "execute_result"
    },
    {
     "data": {
      "image/png": "[encoded data removed]",
      "text/plain": [
       "<Figure size 432x288 with 1 Axes>"
      ]
     },
     "metadata": {
      "needs_background": "light"
     },
     "output_type": "display_data"
    }
   ],
   "source": [
    "plt.scatter(X,Y)\n",
    "x= np.linspace(20,80)\n",
    "y=1.4796491688889395*x+0.10148121494753724\n",
    "plt.plot(x,y,'-r')"
   ]
  },
  {
   "cell_type": "code",
   "execution_count": null,
   "metadata": {},
   "outputs": [],
   "source": []
  }
 ],
 "metadata": {
  "kernelspec": {
   "display_name": "Python 3",
   "language": "python",
   "name": "python3"
  },
  "language_info": {
   "codemirror_mode": {
    "name": "ipython",
    "version": 3
   },
   "file_extension": ".py",
   "mimetype": "text/x-python",
   "name": "python",
   "nbconvert_exporter": "python",
   "pygments_lexer": "ipython3",
   "version": "3.7.3"
  }
 },
 "nbformat": 4,
 "nbformat_minor": 2
}
